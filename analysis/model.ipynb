{
 "cells": [
  {
   "cell_type": "code",
   "execution_count": 2,
   "metadata": {},
   "outputs": [],
   "source": [
    "import pandas as pd\n",
    "import numpy as np\n",
    "from sklearn.preprocessing import OneHotEncoder"
   ]
  },
  {
   "cell_type": "code",
   "execution_count": 3,
   "metadata": {},
   "outputs": [
    {
     "data": {
      "text/html": [
       "<div>\n",
       "<style scoped>\n",
       "    .dataframe tbody tr th:only-of-type {\n",
       "        vertical-align: middle;\n",
       "    }\n",
       "\n",
       "    .dataframe tbody tr th {\n",
       "        vertical-align: top;\n",
       "    }\n",
       "\n",
       "    .dataframe thead th {\n",
       "        text-align: right;\n",
       "    }\n",
       "</style>\n",
       "<table border=\"1\" class=\"dataframe\">\n",
       "  <thead>\n",
       "    <tr style=\"text-align: right;\">\n",
       "      <th></th>\n",
       "      <th>Unnamed: 0</th>\n",
       "      <th>to_square</th>\n",
       "      <th>piece</th>\n",
       "      <th>board</th>\n",
       "    </tr>\n",
       "  </thead>\n",
       "  <tbody>\n",
       "    <tr>\n",
       "      <th>0</th>\n",
       "      <td>0</td>\n",
       "      <td>b3</td>\n",
       "      <td>P</td>\n",
       "      <td>r n b q k b n r\\np p p p p p p p\\n. . . . . . ...</td>\n",
       "    </tr>\n",
       "    <tr>\n",
       "      <th>1</th>\n",
       "      <td>1</td>\n",
       "      <td>e6</td>\n",
       "      <td>P</td>\n",
       "      <td>r n b q k b n r\\np p p p p p p p\\n. . . . . . ...</td>\n",
       "    </tr>\n",
       "    <tr>\n",
       "      <th>2</th>\n",
       "      <td>2</td>\n",
       "      <td>b2</td>\n",
       "      <td>B</td>\n",
       "      <td>r n b q k b n r\\np p p p . p p p\\n. . . . p . ...</td>\n",
       "    </tr>\n",
       "    <tr>\n",
       "      <th>3</th>\n",
       "      <td>3</td>\n",
       "      <td>e7</td>\n",
       "      <td>Q</td>\n",
       "      <td>r n b q k b n r\\np p p p . p p p\\n. . . . p . ...</td>\n",
       "    </tr>\n",
       "    <tr>\n",
       "      <th>4</th>\n",
       "      <td>4</td>\n",
       "      <td>g4</td>\n",
       "      <td>P</td>\n",
       "      <td>r n b . k b n r\\np p p p q p p p\\n. . . . p . ...</td>\n",
       "    </tr>\n",
       "  </tbody>\n",
       "</table>\n",
       "</div>"
      ],
      "text/plain": [
       "   Unnamed: 0 to_square piece   \n",
       "0           0        b3     P  \\\n",
       "1           1        e6     P   \n",
       "2           2        b2     B   \n",
       "3           3        e7     Q   \n",
       "4           4        g4     P   \n",
       "\n",
       "                                               board  \n",
       "0  r n b q k b n r\\np p p p p p p p\\n. . . . . . ...  \n",
       "1  r n b q k b n r\\np p p p p p p p\\n. . . . . . ...  \n",
       "2  r n b q k b n r\\np p p p . p p p\\n. . . . p . ...  \n",
       "3  r n b q k b n r\\np p p p . p p p\\n. . . . p . ...  \n",
       "4  r n b . k b n r\\np p p p q p p p\\n. . . . p . ...  "
      ]
     },
     "execution_count": 3,
     "metadata": {},
     "output_type": "execute_result"
    }
   ],
   "source": [
    "df_data = pd.read_csv(\"../data/samples_data.csv\")\n",
    "df_data = df_data.drop(columns=[\"move_sequence\"])\n",
    "df_data.head()"
   ]
  },
  {
   "cell_type": "code",
   "execution_count": 4,
   "metadata": {},
   "outputs": [
    {
     "data": {
      "text/html": [
       "<div>\n",
       "<style scoped>\n",
       "    .dataframe tbody tr th:only-of-type {\n",
       "        vertical-align: middle;\n",
       "    }\n",
       "\n",
       "    .dataframe tbody tr th {\n",
       "        vertical-align: top;\n",
       "    }\n",
       "\n",
       "    .dataframe thead th {\n",
       "        text-align: right;\n",
       "    }\n",
       "</style>\n",
       "<table border=\"1\" class=\"dataframe\">\n",
       "  <thead>\n",
       "    <tr style=\"text-align: right;\">\n",
       "      <th></th>\n",
       "      <th>Unnamed: 0</th>\n",
       "      <th>to_square</th>\n",
       "      <th>piece</th>\n",
       "      <th>board</th>\n",
       "      <th>target_column</th>\n",
       "      <th>target_row</th>\n",
       "    </tr>\n",
       "  </thead>\n",
       "  <tbody>\n",
       "    <tr>\n",
       "      <th>0</th>\n",
       "      <td>0</td>\n",
       "      <td>b3</td>\n",
       "      <td>P</td>\n",
       "      <td>r n b q k b n r\\np p p p p p p p\\n. . . . . . ...</td>\n",
       "      <td>b</td>\n",
       "      <td>3</td>\n",
       "    </tr>\n",
       "    <tr>\n",
       "      <th>1</th>\n",
       "      <td>1</td>\n",
       "      <td>e6</td>\n",
       "      <td>P</td>\n",
       "      <td>r n b q k b n r\\np p p p p p p p\\n. . . . . . ...</td>\n",
       "      <td>e</td>\n",
       "      <td>6</td>\n",
       "    </tr>\n",
       "    <tr>\n",
       "      <th>2</th>\n",
       "      <td>2</td>\n",
       "      <td>b2</td>\n",
       "      <td>B</td>\n",
       "      <td>r n b q k b n r\\np p p p . p p p\\n. . . . p . ...</td>\n",
       "      <td>b</td>\n",
       "      <td>2</td>\n",
       "    </tr>\n",
       "    <tr>\n",
       "      <th>3</th>\n",
       "      <td>3</td>\n",
       "      <td>e7</td>\n",
       "      <td>Q</td>\n",
       "      <td>r n b q k b n r\\np p p p . p p p\\n. . . . p . ...</td>\n",
       "      <td>e</td>\n",
       "      <td>7</td>\n",
       "    </tr>\n",
       "    <tr>\n",
       "      <th>4</th>\n",
       "      <td>4</td>\n",
       "      <td>g4</td>\n",
       "      <td>P</td>\n",
       "      <td>r n b . k b n r\\np p p p q p p p\\n. . . . p . ...</td>\n",
       "      <td>g</td>\n",
       "      <td>4</td>\n",
       "    </tr>\n",
       "  </tbody>\n",
       "</table>\n",
       "</div>"
      ],
      "text/plain": [
       "   Unnamed: 0 to_square piece   \n",
       "0           0        b3     P  \\\n",
       "1           1        e6     P   \n",
       "2           2        b2     B   \n",
       "3           3        e7     Q   \n",
       "4           4        g4     P   \n",
       "\n",
       "                                               board target_column target_row  \n",
       "0  r n b q k b n r\\np p p p p p p p\\n. . . . . . ...             b          3  \n",
       "1  r n b q k b n r\\np p p p p p p p\\n. . . . . . ...             e          6  \n",
       "2  r n b q k b n r\\np p p p . p p p\\n. . . . p . ...             b          2  \n",
       "3  r n b q k b n r\\np p p p . p p p\\n. . . . p . ...             e          7  \n",
       "4  r n b . k b n r\\np p p p q p p p\\n. . . . p . ...             g          4  "
      ]
     },
     "execution_count": 4,
     "metadata": {},
     "output_type": "execute_result"
    }
   ],
   "source": [
    "df_data[\"target_column\"] = df_data[\"to_square\"].apply(lambda x: x[0])\n",
    "df_data[\"target_row\"]    = df_data[\"to_square\"].apply(lambda x: x[1])\n",
    "df_data.head()"
   ]
  },
  {
   "cell_type": "code",
   "execution_count": 13,
   "metadata": {},
   "outputs": [
    {
     "data": {
      "text/plain": [
       "array(['P', 'B', 'Q', 'N', 'K', 'R'], dtype=object)"
      ]
     },
     "execution_count": 13,
     "metadata": {},
     "output_type": "execute_result"
    }
   ],
   "source": [
    "df_data.piece.unique()"
   ]
  },
  {
   "cell_type": "code",
   "execution_count": 23,
   "metadata": {},
   "outputs": [
    {
     "data": {
      "text/plain": [
       "array([1, 0, 0, 0, 0, 0])"
      ]
     },
     "execution_count": 23,
     "metadata": {},
     "output_type": "execute_result"
    }
   ],
   "source": [
    "piece_available = \"PBQNKR\"\n",
    "chess_pieces = {piece_available[i]:[int(j == i) for j in range(len(piece_available))] for i in range(len(piece_available))}\n",
    "\n",
    "\n",
    "\n",
    "np.array(chess_pieces[\"P\"])"
   ]
  },
  {
   "cell_type": "code",
   "execution_count": 10,
   "metadata": {},
   "outputs": [
    {
     "data": {
      "text/plain": [
       "{'a': [1, 0, 0, 0, 0, 0, 0, 0],\n",
       " 'b': [0, 1, 0, 0, 0, 0, 0, 0],\n",
       " 'c': [0, 0, 1, 0, 0, 0, 0, 0],\n",
       " 'd': [0, 0, 0, 1, 0, 0, 0, 0],\n",
       " 'e': [0, 0, 0, 0, 1, 0, 0, 0],\n",
       " 'f': [0, 0, 0, 0, 0, 1, 0, 0],\n",
       " 'g': [0, 0, 0, 0, 0, 0, 1, 0],\n",
       " 'h': [0, 0, 0, 0, 0, 0, 0, 1]}"
      ]
     },
     "execution_count": 10,
     "metadata": {},
     "output_type": "execute_result"
    }
   ],
   "source": [
    "\n",
    "column_letters = \"abcdefgh\"\n",
    "\n",
    "chess_columns = {column_letters[i]:[int(j == i) for j in range(len(column_letters))] for i in range(len(column_letters))}\n",
    "chess_columns"
   ]
  },
  {
   "cell_type": "code",
   "execution_count": 12,
   "metadata": {},
   "outputs": [
    {
     "data": {
      "text/plain": [
       "{'1': [1, 0, 0, 0, 0, 0, 0, 0],\n",
       " '2': [0, 1, 0, 0, 0, 0, 0, 0],\n",
       " '3': [0, 0, 1, 0, 0, 0, 0, 0],\n",
       " '4': [0, 0, 0, 1, 0, 0, 0, 0],\n",
       " '5': [0, 0, 0, 0, 1, 0, 0, 0],\n",
       " '6': [0, 0, 0, 0, 0, 1, 0, 0],\n",
       " '7': [0, 0, 0, 0, 0, 0, 1, 0],\n",
       " '8': [0, 0, 0, 0, 0, 0, 0, 1]}"
      ]
     },
     "execution_count": 12,
     "metadata": {},
     "output_type": "execute_result"
    }
   ],
   "source": [
    "row_letters = \"12345678\"\n",
    "chess_rows = {row_letters[i]:[int(j == i) for j in range(len(row_letters))] for i in range(len(row_letters))}\n",
    "chess_rows"
   ]
  },
  {
   "cell_type": "code",
   "execution_count": null,
   "metadata": {},
   "outputs": [
    {
     "data": {
      "text/plain": [
       "8"
      ]
     },
     "execution_count": 6,
     "metadata": {},
     "output_type": "execute_result"
    }
   ],
   "source": [
    "len(df_data.target_row.unique())"
   ]
  },
  {
   "cell_type": "code",
   "execution_count": null,
   "metadata": {},
   "outputs": [
    {
     "data": {
      "text/html": [
       "<style>#sk-container-id-1 {color: black;background-color: white;}#sk-container-id-1 pre{padding: 0;}#sk-container-id-1 div.sk-toggleable {background-color: white;}#sk-container-id-1 label.sk-toggleable__label {cursor: pointer;display: block;width: 100%;margin-bottom: 0;padding: 0.3em;box-sizing: border-box;text-align: center;}#sk-container-id-1 label.sk-toggleable__label-arrow:before {content: \"▸\";float: left;margin-right: 0.25em;color: #696969;}#sk-container-id-1 label.sk-toggleable__label-arrow:hover:before {color: black;}#sk-container-id-1 div.sk-estimator:hover label.sk-toggleable__label-arrow:before {color: black;}#sk-container-id-1 div.sk-toggleable__content {max-height: 0;max-width: 0;overflow: hidden;text-align: left;background-color: #f0f8ff;}#sk-container-id-1 div.sk-toggleable__content pre {margin: 0.2em;color: black;border-radius: 0.25em;background-color: #f0f8ff;}#sk-container-id-1 input.sk-toggleable__control:checked~div.sk-toggleable__content {max-height: 200px;max-width: 100%;overflow: auto;}#sk-container-id-1 input.sk-toggleable__control:checked~label.sk-toggleable__label-arrow:before {content: \"▾\";}#sk-container-id-1 div.sk-estimator input.sk-toggleable__control:checked~label.sk-toggleable__label {background-color: #d4ebff;}#sk-container-id-1 div.sk-label input.sk-toggleable__control:checked~label.sk-toggleable__label {background-color: #d4ebff;}#sk-container-id-1 input.sk-hidden--visually {border: 0;clip: rect(1px 1px 1px 1px);clip: rect(1px, 1px, 1px, 1px);height: 1px;margin: -1px;overflow: hidden;padding: 0;position: absolute;width: 1px;}#sk-container-id-1 div.sk-estimator {font-family: monospace;background-color: #f0f8ff;border: 1px dotted black;border-radius: 0.25em;box-sizing: border-box;margin-bottom: 0.5em;}#sk-container-id-1 div.sk-estimator:hover {background-color: #d4ebff;}#sk-container-id-1 div.sk-parallel-item::after {content: \"\";width: 100%;border-bottom: 1px solid gray;flex-grow: 1;}#sk-container-id-1 div.sk-label:hover label.sk-toggleable__label {background-color: #d4ebff;}#sk-container-id-1 div.sk-serial::before {content: \"\";position: absolute;border-left: 1px solid gray;box-sizing: border-box;top: 0;bottom: 0;left: 50%;z-index: 0;}#sk-container-id-1 div.sk-serial {display: flex;flex-direction: column;align-items: center;background-color: white;padding-right: 0.2em;padding-left: 0.2em;position: relative;}#sk-container-id-1 div.sk-item {position: relative;z-index: 1;}#sk-container-id-1 div.sk-parallel {display: flex;align-items: stretch;justify-content: center;background-color: white;position: relative;}#sk-container-id-1 div.sk-item::before, #sk-container-id-1 div.sk-parallel-item::before {content: \"\";position: absolute;border-left: 1px solid gray;box-sizing: border-box;top: 0;bottom: 0;left: 50%;z-index: -1;}#sk-container-id-1 div.sk-parallel-item {display: flex;flex-direction: column;z-index: 1;position: relative;background-color: white;}#sk-container-id-1 div.sk-parallel-item:first-child::after {align-self: flex-end;width: 50%;}#sk-container-id-1 div.sk-parallel-item:last-child::after {align-self: flex-start;width: 50%;}#sk-container-id-1 div.sk-parallel-item:only-child::after {width: 0;}#sk-container-id-1 div.sk-dashed-wrapped {border: 1px dashed gray;margin: 0 0.4em 0.5em 0.4em;box-sizing: border-box;padding-bottom: 0.4em;background-color: white;}#sk-container-id-1 div.sk-label label {font-family: monospace;font-weight: bold;display: inline-block;line-height: 1.2em;}#sk-container-id-1 div.sk-label-container {text-align: center;}#sk-container-id-1 div.sk-container {/* jupyter's `normalize.less` sets `[hidden] { display: none; }` but bootstrap.min.css set `[hidden] { display: none !important; }` so we also need the `!important` here to be able to override the default hidden behavior on the sphinx rendered scikit-learn.org. See: https://github.com/scikit-learn/scikit-learn/issues/21755 */display: inline-block !important;position: relative;}#sk-container-id-1 div.sk-text-repr-fallback {display: none;}</style><div id=\"sk-container-id-1\" class=\"sk-top-container\"><div class=\"sk-text-repr-fallback\"><pre>OneHotEncoder()</pre><b>In a Jupyter environment, please rerun this cell to show the HTML representation or trust the notebook. <br />On GitHub, the HTML representation is unable to render, please try loading this page with nbviewer.org.</b></div><div class=\"sk-container\" hidden><div class=\"sk-item\"><div class=\"sk-estimator sk-toggleable\"><input class=\"sk-toggleable__control sk-hidden--visually\" id=\"sk-estimator-id-1\" type=\"checkbox\" checked><label for=\"sk-estimator-id-1\" class=\"sk-toggleable__label sk-toggleable__label-arrow\">OneHotEncoder</label><div class=\"sk-toggleable__content\"><pre>OneHotEncoder()</pre></div></div></div></div></div>"
      ],
      "text/plain": [
       "OneHotEncoder()"
      ]
     },
     "execution_count": 7,
     "metadata": {},
     "output_type": "execute_result"
    }
   ],
   "source": [
    "encoder = OneHotEncoder()\n",
    "encoder.fit(df_data['piece'].values.reshape(-1, 1))"
   ]
  },
  {
   "cell_type": "code",
   "execution_count": null,
   "metadata": {},
   "outputs": [
    {
     "data": {
      "text/plain": [
       "<1x6 sparse matrix of type '<class 'numpy.float64'>'\n",
       "\twith 1 stored elements in Compressed Sparse Row format>"
      ]
     },
     "execution_count": 8,
     "metadata": {},
     "output_type": "execute_result"
    }
   ],
   "source": [
    "encoder.transform([[\"P\"]]) # .toarray()"
   ]
  },
  {
   "cell_type": "code",
   "execution_count": null,
   "metadata": {},
   "outputs": [
    {
     "data": {
      "text/plain": [
       "array(['b', 'e', 'b', ..., 'f', 'g', 'h'], dtype=object)"
      ]
     },
     "execution_count": 9,
     "metadata": {},
     "output_type": "execute_result"
    }
   ],
   "source": [
    "df_data['target_column'].values"
   ]
  },
  {
   "cell_type": "code",
   "execution_count": null,
   "metadata": {},
   "outputs": [
    {
     "data": {
      "text/html": [
       "<div>\n",
       "<style scoped>\n",
       "    .dataframe tbody tr th:only-of-type {\n",
       "        vertical-align: middle;\n",
       "    }\n",
       "\n",
       "    .dataframe tbody tr th {\n",
       "        vertical-align: top;\n",
       "    }\n",
       "\n",
       "    .dataframe thead th {\n",
       "        text-align: right;\n",
       "    }\n",
       "</style>\n",
       "<table border=\"1\" class=\"dataframe\">\n",
       "  <thead>\n",
       "    <tr style=\"text-align: right;\">\n",
       "      <th></th>\n",
       "      <th>B</th>\n",
       "      <th>K</th>\n",
       "      <th>N</th>\n",
       "      <th>P</th>\n",
       "      <th>Q</th>\n",
       "      <th>R</th>\n",
       "    </tr>\n",
       "  </thead>\n",
       "  <tbody>\n",
       "    <tr>\n",
       "      <th>0</th>\n",
       "      <td>False</td>\n",
       "      <td>False</td>\n",
       "      <td>False</td>\n",
       "      <td>True</td>\n",
       "      <td>False</td>\n",
       "      <td>False</td>\n",
       "    </tr>\n",
       "    <tr>\n",
       "      <th>1</th>\n",
       "      <td>False</td>\n",
       "      <td>False</td>\n",
       "      <td>False</td>\n",
       "      <td>True</td>\n",
       "      <td>False</td>\n",
       "      <td>False</td>\n",
       "    </tr>\n",
       "    <tr>\n",
       "      <th>2</th>\n",
       "      <td>True</td>\n",
       "      <td>False</td>\n",
       "      <td>False</td>\n",
       "      <td>False</td>\n",
       "      <td>False</td>\n",
       "      <td>False</td>\n",
       "    </tr>\n",
       "    <tr>\n",
       "      <th>3</th>\n",
       "      <td>False</td>\n",
       "      <td>False</td>\n",
       "      <td>False</td>\n",
       "      <td>False</td>\n",
       "      <td>True</td>\n",
       "      <td>False</td>\n",
       "    </tr>\n",
       "    <tr>\n",
       "      <th>4</th>\n",
       "      <td>False</td>\n",
       "      <td>False</td>\n",
       "      <td>False</td>\n",
       "      <td>True</td>\n",
       "      <td>False</td>\n",
       "      <td>False</td>\n",
       "    </tr>\n",
       "    <tr>\n",
       "      <th>...</th>\n",
       "      <td>...</td>\n",
       "      <td>...</td>\n",
       "      <td>...</td>\n",
       "      <td>...</td>\n",
       "      <td>...</td>\n",
       "      <td>...</td>\n",
       "    </tr>\n",
       "    <tr>\n",
       "      <th>183275</th>\n",
       "      <td>False</td>\n",
       "      <td>False</td>\n",
       "      <td>False</td>\n",
       "      <td>True</td>\n",
       "      <td>False</td>\n",
       "      <td>False</td>\n",
       "    </tr>\n",
       "    <tr>\n",
       "      <th>183276</th>\n",
       "      <td>True</td>\n",
       "      <td>False</td>\n",
       "      <td>False</td>\n",
       "      <td>False</td>\n",
       "      <td>False</td>\n",
       "      <td>False</td>\n",
       "    </tr>\n",
       "    <tr>\n",
       "      <th>183277</th>\n",
       "      <td>False</td>\n",
       "      <td>False</td>\n",
       "      <td>True</td>\n",
       "      <td>False</td>\n",
       "      <td>False</td>\n",
       "      <td>False</td>\n",
       "    </tr>\n",
       "    <tr>\n",
       "      <th>183278</th>\n",
       "      <td>False</td>\n",
       "      <td>False</td>\n",
       "      <td>False</td>\n",
       "      <td>True</td>\n",
       "      <td>False</td>\n",
       "      <td>False</td>\n",
       "    </tr>\n",
       "    <tr>\n",
       "      <th>183279</th>\n",
       "      <td>False</td>\n",
       "      <td>False</td>\n",
       "      <td>True</td>\n",
       "      <td>False</td>\n",
       "      <td>False</td>\n",
       "      <td>False</td>\n",
       "    </tr>\n",
       "  </tbody>\n",
       "</table>\n",
       "<p>183280 rows × 6 columns</p>\n",
       "</div>"
      ],
      "text/plain": [
       "            B      K      N      P      Q      R\n",
       "0       False  False  False   True  False  False\n",
       "1       False  False  False   True  False  False\n",
       "2        True  False  False  False  False  False\n",
       "3       False  False  False  False   True  False\n",
       "4       False  False  False   True  False  False\n",
       "...       ...    ...    ...    ...    ...    ...\n",
       "183275  False  False  False   True  False  False\n",
       "183276   True  False  False  False  False  False\n",
       "183277  False  False   True  False  False  False\n",
       "183278  False  False  False   True  False  False\n",
       "183279  False  False   True  False  False  False\n",
       "\n",
       "[183280 rows x 6 columns]"
      ]
     },
     "execution_count": 10,
     "metadata": {},
     "output_type": "execute_result"
    }
   ],
   "source": [
    "pd.get_dummies(df_data[\"piece\"])"
   ]
  },
  {
   "cell_type": "code",
   "execution_count": null,
   "metadata": {},
   "outputs": [
    {
     "data": {
      "text/plain": [
       "array(['r n b q k b n r\\np p p p p p p p\\n. . . . . . . .\\n. . . . . . . .\\n. . . . . . . .\\n. . . . . . . .\\nP P P P P P P P\\nR N B Q K B N R',\n",
       "       'r n b q k b n r\\np p p p p p p p\\n. . . . . . . .\\n. . . . . . . .\\n. . . . . . . .\\n. P . . . . . .\\nP . P P P P P P\\nR N B Q K B N R',\n",
       "       'r n b q k b n r\\np p p p . p p p\\n. . . . p . . .\\n. . . . . . . .\\n. . . . . . . .\\n. P . . . . . .\\nP . P P P P P P\\nR N B Q K B N R',\n",
       "       ...,\n",
       "       '. . . . . r . k\\nQ . . . . . p .\\n. . . . . . n .\\n. P . . . . . p\\nP . P . . . . .\\n. . . . . . p P\\n. . . . B P . .\\nR . . . . R K .',\n",
       "       '. . . . . r . k\\nQ . . . . . p .\\n. . . . . . . .\\n. P . . . . . p\\nP . P . . n . .\\n. . . . . . p P\\n. . . . B P . .\\nR . . . . R K .',\n",
       "       '. . . . . r . k\\nQ . . . . . p .\\n. . . . . . . .\\n. P . . . . . p\\nP . P . . n . .\\n. . . . . . P P\\n. . . . B . . .\\nR . . . . R K .'],\n",
       "      dtype=object)"
      ]
     },
     "execution_count": 11,
     "metadata": {},
     "output_type": "execute_result"
    }
   ],
   "source": [
    "df_data[\"board\"].values"
   ]
  },
  {
   "cell_type": "code",
   "execution_count": null,
   "metadata": {},
   "outputs": [
    {
     "data": {
      "text/plain": [
       "0         P\n",
       "1         P\n",
       "2         B\n",
       "3         Q\n",
       "4         P\n",
       "         ..\n",
       "183275    P\n",
       "183276    B\n",
       "183277    N\n",
       "183278    P\n",
       "183279    N\n",
       "Name: piece, Length: 183280, dtype: object"
      ]
     },
     "execution_count": 12,
     "metadata": {},
     "output_type": "execute_result"
    }
   ],
   "source": [
    "df_data[\"piece\"]"
   ]
  },
  {
   "cell_type": "code",
   "execution_count": null,
   "metadata": {},
   "outputs": [
    {
     "data": {
      "text/plain": [
       "<4x6 sparse matrix of type '<class 'numpy.float64'>'\n",
       "\twith 4 stored elements in Compressed Sparse Row format>"
      ]
     },
     "execution_count": 13,
     "metadata": {},
     "output_type": "execute_result"
    }
   ],
   "source": [
    "idx = [1,2,3,4]\n",
    "sub_data = df_data.iloc[idx]\n",
    "\n",
    "encoder.transform(sub_data[\"piece\"].values.reshape(-1, 1))"
   ]
  },
  {
   "cell_type": "code",
   "execution_count": null,
   "metadata": {},
   "outputs": [],
   "source": [
    "sub_board = sub_data.iloc[1][\"board\"]"
   ]
  },
  {
   "cell_type": "code",
   "execution_count": null,
   "metadata": {},
   "outputs": [
    {
     "name": "stdout",
     "output_type": "stream",
     "text": [
      "(12, 8, 8)\n"
     ]
    }
   ],
   "source": [
    "chess_dict = {\n",
    "    'p' : [1,0,0,0,0,0,0,0,0,0,0,0],\n",
    "    'P' : [0,0,0,0,0,0,1,0,0,0,0,0],\n",
    "    'n' : [0,1,0,0,0,0,0,0,0,0,0,0],\n",
    "    'N' : [0,0,0,0,0,0,0,1,0,0,0,0],\n",
    "    'b' : [0,0,1,0,0,0,0,0,0,0,0,0],\n",
    "    'B' : [0,0,0,0,0,0,0,0,1,0,0,0],\n",
    "    'r' : [0,0,0,1,0,0,0,0,0,0,0,0],\n",
    "    'R' : [0,0,0,0,0,0,0,0,0,1,0,0],\n",
    "    'q' : [0,0,0,0,1,0,0,0,0,0,0,0],\n",
    "    'Q' : [0,0,0,0,0,0,0,0,0,0,1,0],\n",
    "    'k' : [0,0,0,0,0,1,0,0,0,0,0,0],\n",
    "    'K' : [0,0,0,0,0,0,0,0,0,0,0,1],\n",
    "    '.' : [0,0,0,0,0,0,0,0,0,0,0,0],\n",
    "}\n",
    "\n",
    "def board_encoder(boards: list[str]) -> np.array:\n",
    "    return np.array([board_encoding(board) for board in boards])\n",
    "\n",
    "\n",
    "def board_encoding(board: str) -> np.array:\n",
    "    encoding = []\n",
    "    lines = board.splitlines()\n",
    "    for line in lines:\n",
    "        chars = line.split(' ')\n",
    "        for char in chars:\n",
    "            encoding.append(chess_dict[char])\n",
    "    \n",
    "    return np.array(encoding).reshape((-1, 8, 8))\n",
    "\n",
    "d = board_encoding(sub_board)\n",
    "print(d.shape)"
   ]
  },
  {
   "cell_type": "code",
   "execution_count": 12,
   "metadata": {},
   "outputs": [
    {
     "data": {
      "text/plain": [
       "tensor(3)"
      ]
     },
     "execution_count": 12,
     "metadata": {},
     "output_type": "execute_result"
    }
   ],
   "source": [
    "import torch\n",
    "import numpy as np\n",
    "\n",
    "v = np.array([0,0,0,1])\n",
    "v = torch.tensor(v)\n",
    "\n",
    "\n",
    "torch.argmax(v)"
   ]
  },
  {
   "cell_type": "code",
   "execution_count": null,
   "metadata": {},
   "outputs": [],
   "source": [
    "import torch\n",
    "from torch.utils.data import Dataset\n",
    "\n",
    "device = torch.device('cuda' if torch.cuda.is_available() else 'cpu')\n",
    "device = 'cpu'\n",
    "\n",
    "class ChessDataset(Dataset):\n",
    "    def __init__(self, csv_file: str):\n",
    "        self.df = pd.read_csv(csv_file)\n",
    "\n",
    "        self.df[\"target_column\"] = self.df[\"to_square\"].apply(lambda x: x[0])\n",
    "        self.df[\"target_row\"]    = self.df[\"to_square\"].apply(lambda x: x[1])\n",
    "\n",
    "        # Encoder for the piece\n",
    "        self.piece_encoder = OneHotEncoder()\n",
    "        self.piece_encoder.fit(self.df.piece.values.reshape(-1, 1))\n",
    "\n",
    "        # Encoder for the row\n",
    "        self.row_encoder = OneHotEncoder()\n",
    "        self.row_encoder.fit(self.df.target_row.values.reshape(-1, 1))\n",
    "\n",
    "        # Encoder for the column\n",
    "        self.column_encoder = OneHotEncoder()\n",
    "        self.column_encoder.fit(self.df.target_column.values.reshape(-1, 1))\n",
    "        \n",
    "    def __len__(self):\n",
    "        return len(self.df)\n",
    "\n",
    "    def __getitem__(self, idx):\n",
    "        data = self.df.iloc[idx]\n",
    "\n",
    "        X = board_encoding(data[\"board\"])\n",
    "\n",
    "        piece, row, column = (\n",
    "            self.piece_encoder.transform(np.array([data[\"piece\"]]).reshape(-1, 1)).toarray().reshape(-1),\n",
    "            self.row_encoder.transform(np.array([data[\"target_row\"]]).reshape(-1, 1)).toarray().reshape(-1),\n",
    "            self.column_encoder.transform(np.array([data[\"target_column\"]]).reshape(-1, 1)).toarray().reshape(-1)\n",
    "        )\n",
    "        \n",
    "\n",
    "        return torch.tensor(X).type(torch.FloatTensor).to(device), torch.tensor(piece).to(device), torch.tensor(row).to(device), torch.tensor(column).to(device)"
   ]
  },
  {
   "cell_type": "code",
   "execution_count": null,
   "metadata": {},
   "outputs": [],
   "source": [
    "chess = ChessDataset(\"../data/samples_data.csv\")\n",
    "# chess[0]"
   ]
  },
  {
   "cell_type": "code",
   "execution_count": null,
   "metadata": {},
   "outputs": [
    {
     "name": "stderr",
     "output_type": "stream",
     "text": [
      "GPU available: True (cuda), used: True\n",
      "TPU available: False, using: 0 TPU cores\n",
      "IPU available: False, using: 0 IPUs\n",
      "HPU available: False, using: 0 HPUs\n",
      "LOCAL_RANK: 0 - CUDA_VISIBLE_DEVICES: [0]\n",
      "\n",
      "   | Name      | Type      | Params\n",
      "-----------------------------------------\n",
      "0  | conv1     | Conv2d    | 3.9 K \n",
      "1  | act1      | ReLU      | 0     \n",
      "2  | drop1     | Dropout   | 0     \n",
      "3  | conv2     | Conv2d    | 11.7 K\n",
      "4  | act2      | ReLU      | 0     \n",
      "5  | pool2     | MaxPool2d | 0     \n",
      "6  | flat      | Flatten   | 0     \n",
      "7  | fc3       | Linear    | 147 K \n",
      "8  | act3      | ReLU      | 0     \n",
      "9  | drop3     | Dropout   | 0     \n",
      "10 | fc_piece  | Linear    | 1.5 K \n",
      "11 | fc_row    | Linear    | 2.1 K \n",
      "12 | fc_column | Linear    | 2.1 K \n",
      "-----------------------------------------\n",
      "168 K     Trainable params\n",
      "0         Non-trainable params\n",
      "168 K     Total params\n",
      "0.676     Total estimated model params size (MB)\n"
     ]
    },
    {
     "name": "stdout",
     "output_type": "stream",
     "text": [
      "Epoch 1: 100%|██████████| 5728/5728 [01:15<00:00, 75.99it/s, v_num=27]     \n"
     ]
    },
    {
     "name": "stderr",
     "output_type": "stream",
     "text": [
      "/home/rere/Project/PlayChessFHE/.venv/lib/python3.10/site-packages/pytorch_lightning/trainer/call.py:54: UserWarning: Detected KeyboardInterrupt, attempting graceful shutdown...\n",
      "  rank_zero_warn(\"Detected KeyboardInterrupt, attempting graceful shutdown...\")\n"
     ]
    }
   ],
   "source": [
    "\n",
    "import torch\n",
    "import torch.nn as nn\n",
    "from torch.nn import functional as F\n",
    "import torch.optim as optim\n",
    "import torchvision\n",
    " \n",
    "import pytorch_lightning as pl\n",
    "\n",
    "\n",
    "class ConvModel(pl.LightningModule):\n",
    "    def __init__(self):\n",
    "        super().__init__()\n",
    "        self.conv1 = nn.Conv2d(12, 36, kernel_size=(3,3), stride=1, padding=1)\n",
    "        self.act1 = nn.ReLU()\n",
    "        self.drop1 = nn.Dropout(0.3)\n",
    " \n",
    "        self.conv2 = nn.Conv2d(36, 36, kernel_size=(3,3), stride=1, padding=1)\n",
    "        self.act2 = nn.ReLU()\n",
    "        self.pool2 = nn.MaxPool2d(kernel_size=(2, 2))\n",
    " \n",
    "        self.flat = nn.Flatten()\n",
    " \n",
    "        self.fc3 = nn.Linear(576, 256)\n",
    "        self.act3 = nn.ReLU()\n",
    "        self.drop3 = nn.Dropout(0.5)\n",
    " \n",
    "        self.fc_piece  = nn.Linear(256, 6)\n",
    "        self.fc_row    = nn.Linear(256, 8)\n",
    "        self.fc_column = nn.Linear(256, 8)\n",
    " \n",
    "    def forward(self, x):\n",
    "        # input 3x32x32, output 32x32x32\n",
    "        x = self.act1(self.conv1(x))\n",
    "        x = self.drop1(x)\n",
    "        # input 32x32x32, output 32x32x32\n",
    "        x = self.act2(self.conv2(x))\n",
    "        # input 32x32x32, output 32x16x16\n",
    "        x = self.pool2(x)\n",
    "        # input 32x16x16, output 8192\n",
    "        x = self.flat(x)\n",
    "        # input 8192, output 512\n",
    "        x = self.act3(self.fc3(x))\n",
    "        x = self.drop3(x)\n",
    "        \n",
    "        # input 512, output 10\n",
    "        piece  = self.fc_piece(x)\n",
    "        row    = self.fc_row(x)\n",
    "        column = self.fc_column(x)\n",
    "\n",
    "        return piece, row, column\n",
    "\n",
    "    def configure_optimizers(self):\n",
    "        optimizer = torch.optim.Adam(self.parameters(), lr=1e-3)\n",
    "        return optimizer\n",
    "    \n",
    "    def training_step(self, train_batch, batch_idx):\n",
    "        x, y_piece, y_row, y_col = train_batch\n",
    "        # x = x.view(x.size(0), -1)\n",
    "        \n",
    "        pred_piece, pred_row, pred_col = self(x)\n",
    "\n",
    "        loss_p = F.cross_entropy(pred_piece, y_piece)\n",
    "        loss_r = F.cross_entropy(pred_row, y_row)\n",
    "        loss_c = F.cross_entropy(pred_col, y_col)\n",
    "\n",
    "        total_loss = loss_p + loss_r + loss_c\n",
    "\n",
    "        self.log('train_loss', total_loss)\n",
    "        return total_loss\n",
    "    \n",
    "    def validation_step(self, val_batch, batch_idx):\n",
    "        x, y_piece, y_row, y_col = val_batch\n",
    "        # x = x.view(x.size(0), -1)\n",
    "        \n",
    "        (pred_piece, pred_row, pred_col) = self(x)\n",
    "\n",
    "        loss_p = F.cross_entropy(pred_piece, y_piece)\n",
    "        loss_r = F.cross_entropy(pred_row, y_row)\n",
    "        loss_c = F.cross_entropy(pred_col, y_col)\n",
    "\n",
    "        total_loss = loss_p + loss_r + loss_c\n",
    "\n",
    "        self.log('val_loss', total_loss)\n",
    "        return total_loss\n",
    "    \n",
    "chess = ChessDataset(\"../data/samples_data.csv\")\n",
    "\n",
    "transform = torchvision.transforms.Compose([torchvision.transforms.ToTensor()])\n",
    " \n",
    "batch_size = 32\n",
    "train_loader = torch.utils.data.DataLoader(chess, batch_size=batch_size, shuffle=True, num_workers=6)\n",
    "val_loader   = torch.utils.data.DataLoader(chess, batch_size=batch_size, num_workers=6)\n",
    "\n",
    "model = ConvModel()\n",
    "\n",
    "# training\n",
    "trainer = pl.Trainer(max_epochs=5)\n",
    "trainer.fit(model, train_loader, val_loader)\n"
   ]
  }
 ],
 "metadata": {
  "kernelspec": {
   "display_name": ".venv",
   "language": "python",
   "name": "python3"
  },
  "language_info": {
   "codemirror_mode": {
    "name": "ipython",
    "version": 3
   },
   "file_extension": ".py",
   "mimetype": "text/x-python",
   "name": "python",
   "nbconvert_exporter": "python",
   "pygments_lexer": "ipython3",
   "version": "3.10.6"
  },
  "orig_nbformat": 4
 },
 "nbformat": 4,
 "nbformat_minor": 2
}
